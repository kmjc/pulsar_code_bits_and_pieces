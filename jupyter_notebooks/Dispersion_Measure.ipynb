{
 "cells": [
  {
   "cell_type": "code",
   "execution_count": 1,
   "id": "insured-pharmaceutical",
   "metadata": {},
   "outputs": [],
   "source": [
    "from decimal import Decimal as D"
   ]
  },
  {
   "cell_type": "markdown",
   "id": "thrown-desert",
   "metadata": {},
   "source": [
    "# Notes"
   ]
  },
  {
   "cell_type": "markdown",
   "id": "south-delicious",
   "metadata": {},
   "source": [
    "## Time delay relative to a signal at $\\nu = \\infty$\n",
    "### in Gaussian cgs convention \n",
    "$$\\tau(\\nu) = \\frac{e^2 \\times \\rm{parsec}}{2\\pi m_e c} \\times \\frac{\\rm{DM}}{\\nu^2}$$\n",
    "### in SI units\n",
    "$$\\tau(\\nu) = \\frac{e^2 \\times \\rm{parsec}}{8\\pi^2 \\epsilon_0 m_e c} \\times \\frac{\\rm{DM}}{\\nu^2}$$\n",
    "(in SI units $\\rm{parsec} = \\frac{180\\times 3600}{\\pi} \\rm{AU}$)\n",
    "\n",
    "$a = K^{-1}$, but which one is which varies.  \n",
    "Defining $K$ such that\n",
    "$$\\tau(\\nu) = \\frac{K \\times \\rm{DM}}{\\nu^2}$$\n",
    "\n",
    "\n",
    "## Time delay between signals at two frequencies\n",
    "$$t(\\nu_1) - t(\\nu_2) = K\\times\\rm{DM} \\left( \\frac{1}{\\nu_1^2} - \\frac{1}{\\nu_2^2}\\right)$$\n",
    "Lower-frequency signals are delayed more so for $t(\\nu_1) - t(\\nu_2)$ to be positive $\\nu_1 < \\nu_2)$. This means $\\frac{1}{\\nu_1^2} > \\frac{1}{\\nu_2^2}$ and sure enough the result is positive"
   ]
  },
  {
   "cell_type": "markdown",
   "id": "vulnerable-spotlight",
   "metadata": {},
   "source": [
    "## Dispersive smearing across a band\n",
    "This is an APPROXIMATION of the above formula in the limit where the bandwidth $\\Delta\\nu$ is much less than the central frequency $\\nu$ (usually true).\n",
    "$$\n",
    "\\begin{align}\n",
    "\\Delta \\tau_{\\rm{DM}} &= K \\times \\rm{DM} \\left( \\frac{1}{(\\nu - \\Delta\\nu/2)^2} - \\frac{1}{(\\nu + \\Delta\\nu/2)^2}\\right)\\\\\n",
    "&= K \\times \\rm{DM} \\left( \\frac{(\\nu + \\Delta\\nu/2)^2 - (\\nu - \\Delta\\nu/2)^2}{[(\\nu - \\Delta\\nu/2)(\\nu + \\Delta\\nu/2)]^2}\\right)\\\\\n",
    "&= K \\times \\rm{DM} \\left( \\frac{\\nu^2 + \\nu\\Delta\\nu + (\\Delta\\nu/2)^2 - (\\nu^2 - \\nu\\Delta\\nu + (\\Delta\\nu/2)^2)}{[\\nu^2 + (\\Delta\\nu/2)]^2}\\right)\\\\\n",
    "&= K \\times \\rm{DM} \\left(\\frac{2\\nu\\Delta\\nu}{[\\nu^2 + (\\Delta\\nu/2)]^2}\\right)\\\\\n",
    "\\Delta \\tau_{\\rm{DM}} &\\approx 2 K \\times \\rm{DM} \\frac{\\Delta\\nu}{\\nu^3}\\\\\n",
    "\\end{align}\n",
    "$$"
   ]
  },
  {
   "cell_type": "markdown",
   "id": "talented-fields",
   "metadata": {},
   "source": [
    "# $K$ and $a$ conventions\n",
    "## (People mix up $a$ and $K$ a bunch too so they might be the opposite)"
   ]
  },
  {
   "cell_type": "markdown",
   "id": "electronic-limit",
   "metadata": {},
   "source": [
    "### Handbook of Pulsar Astronomy, Lorimer and Kramer (2004)\n",
    "$K = 4.15 \\times 10^6 \\,\\rm{MHz}^2\\,\\rm{cm}^3\\,\\rm{pc}^{-1}\\,\\rm{ms}$  \n",
    "noting theirs is the reciprocal of the below (with decimal places cut off) and recomending you don't use this value\n",
    "\n",
    "### Manchester and Taylor (1972)\n",
    "#### Used by: PRESTO, TEMPO (I think), CHIME/Pulsar, CHIME/FRB\n",
    "$a = K^{-1} = 2.41 \\times 10^{-4} \\,\\rm{MHz}^{-2}\\,\\rm{cm}^{-3}\\,\\rm{pc}\\,\\rm{s}^{-1}$\n",
    "#### in units of ms and MHz:\n",
    "$a = K^{-1} = 2.41 \\times 10^{-7} \\,\\rm{MHz}^{-2}\\,\\rm{cm}^{-3}\\,\\rm{pc}\\,\\rm{ms}^{-1}$\n",
    "\n",
    "### Precise value from constants (https://arxiv.org/pdf/2007.02886.pdf, 2020)\n",
    "(NB in the paper they've fliped K and a so I've flipped them back here)  \n",
    "(and used annoying units, note one's ms and one's s)  \n",
    "$a = 2.410\\,031\\,786(66) \\times 10^{2}\\,\\rm{GHz}^{-2}\\,\\rm{cm}^{-3}\\,\\rm{pc}\\,\\rm{s}^{-1}$  \n",
    "$K = 4.148\\,806\\,4239(11) \\,\\rm{GHz}^{2}\\,\\rm{cm}^{3}\\,\\rm{pc}^{-1}\\,\\rm{ms}$  \n",
    "#### in units of ms and MHz:\n",
    "$a = 2.410\\,031\\,786(66) \\times 10^{-7} \\,\\rm{MHz}^{-2} \\,\\rm{cm}^{-3} \\,\\rm{pc}\\,\\rm{ms}^{-1}$  \n",
    "$K = 4.148\\,806\\,4239(11) \\times 10^6 \\,\\rm{MHz}^{2} \\,\\rm{cm}^{3} \\,\\rm{pc}^{-1}\\,\\rm{ms}$  \n"
   ]
  },
  {
   "cell_type": "markdown",
   "id": "strategic-garden",
   "metadata": {},
   "source": [
    "## Conclusion\n",
    "Use $$a = 2.41 \\times 10^{-7} \\,\\rm{MHz}^{-2}\\,\\rm{cm}^{-3}\\,\\rm{pc}\\,\\rm{ms}^{-1}$$\n",
    "because (mostly) that's what everyone else uses and it's more precise than rounding $K$"
   ]
  },
  {
   "cell_type": "markdown",
   "id": "recognized-cardiff",
   "metadata": {},
   "source": [
    "***"
   ]
  },
  {
   "cell_type": "markdown",
   "id": "statewide-expense",
   "metadata": {},
   "source": [
    "# Code"
   ]
  },
  {
   "cell_type": "code",
   "execution_count": 42,
   "id": "flying-anime",
   "metadata": {},
   "outputs": [],
   "source": [
    "DMCONVENTION = \"manchester taylor\"\n",
    "#DMCONVENTION = \"psr handbook\"\n",
    "#DMCONVENTION = \"constants\""
   ]
  },
  {
   "cell_type": "code",
   "execution_count": 43,
   "id": "binding-pavilion",
   "metadata": {},
   "outputs": [],
   "source": [
    "def get_K(DMCONVENTION):\n",
    "    if DMCONVENTION == \"manchester taylor\":\n",
    "        a = D(\"2.41E-7\")\n",
    "        return 1/a\n",
    "    elif DMCONVENTION == \"psr handbook\":\n",
    "        return D(\"4.15E6\")\n",
    "    elif DMCONVENTION == \"constants\":\n",
    "        return D(\"4.14880642E6\")\n",
    "    else:\n",
    "        print(\"DMCONVENTION not recognized\")\n",
    "        return 0\n",
    "    \n",
    "def get_a(DMCONVENTION):\n",
    "    if DMCONVENTION == \"manchester taylor\":\n",
    "        return D(\"2.41E-7\")\n",
    "    elif DMCONVENTION == \"psr handbook\":\n",
    "        K = D(\"4.15E6\")\n",
    "        return 1/K\n",
    "    elif DMCONVENTION == \"constants\":\n",
    "        return D(\"2.4100317E-7\")\n",
    "    else:\n",
    "        print(\"DMCONVENTION not recognized\")\n",
    "        return 0"
   ]
  },
  {
   "cell_type": "code",
   "execution_count": 44,
   "id": "entitled-accused",
   "metadata": {},
   "outputs": [],
   "source": [
    "def DM_to_time_delay_ms(DM, f_MHz, f_ref_MHz=D(\"Infinity\")):\n",
    "    \"\"\"From the DM in parsec/cm^3 and the frequency in MHz returns the time delay in ms.\n",
    "    Can also set a reference frequency with f_ref_MHz\"\"\"\n",
    "    global DMCONVENTION\n",
    "    K = get_K(DMCONVENTION)\n",
    "    return D(DM)*K*(1/D(f_MHz)**2 - 1/D(f_ref_MHz)**2)\n",
    "\n",
    "def time_delay_ms_to_DM(time_delay_ms, f_MHz, f_ref_MHz=D(\"Infinity\")):\n",
    "    \"\"\"From the time delay in ms and the frequency in MHz returns the DM in parsec/cm^3.\n",
    "    Can also set a reference frequency with f_ref_MHz\"\"\"\n",
    "    global DMCONVENTION\n",
    "    K = get_K(DMCONVENTION)\n",
    "    return D(time_delay_ms)/K/(1/D(f_MHz)**2 - 1/D(f_ref_MHz)**2)"
   ]
  },
  {
   "cell_type": "code",
   "execution_count": 49,
   "id": "legitimate-baptist",
   "metadata": {},
   "outputs": [],
   "source": [
    "def DM_smear(DM, f_ctr_MHz, bw_MHz):\n",
    "    global DMCONVENTION\n",
    "    K = get_K(DMCONVENTION)\n",
    "    return 2*K*D(DM)*D(bw_MHz)/D(f_ctr_MHz)**3\n",
    "\n",
    "def DM_where_smearing_reaches_value(smear_ms, f_ctr_MHz, bw_MHz):\n",
    "    global DMCONVENTION\n",
    "    K = get_K(DMCONVENTION)\n",
    "    return D(smear_ms)*D(f_ctr_MHz)**3 / 2 / K / D(bw_MHz)"
   ]
  },
  {
   "cell_type": "code",
   "execution_count": 50,
   "id": "wound-confusion",
   "metadata": {},
   "outputs": [
    {
     "data": {
      "text/plain": [
       "Decimal('648.3402489626556016597510373')"
      ]
     },
     "execution_count": 50,
     "metadata": {},
     "output_type": "execute_result"
    }
   ],
   "source": [
    "DM_to_time_delay_ms(100,800)"
   ]
  },
  {
   "cell_type": "code",
   "execution_count": 51,
   "id": "refined-macintosh",
   "metadata": {},
   "outputs": [
    {
     "data": {
      "text/plain": [
       "Decimal('78.97088')"
      ]
     },
     "execution_count": 51,
     "metadata": {},
     "output_type": "execute_result"
    }
   ],
   "source": [
    "time_delay_ms_to_DM(2048, 400)"
   ]
  },
  {
   "cell_type": "code",
   "execution_count": 53,
   "id": "worse-fiber",
   "metadata": {},
   "outputs": [
    {
     "data": {
      "text/plain": [
       "Decimal('1536.806516059628092823113570')"
      ]
     },
     "execution_count": 53,
     "metadata": {},
     "output_type": "execute_result"
    }
   ],
   "source": [
    "DM_smear(100, 600,400)"
   ]
  },
  {
   "cell_type": "code",
   "execution_count": 54,
   "id": "theoretical-turning",
   "metadata": {},
   "outputs": [
    {
     "data": {
      "text/plain": [
       "Decimal('99.94752000000000000000000')"
      ]
     },
     "execution_count": 54,
     "metadata": {},
     "output_type": "execute_result"
    }
   ],
   "source": [
    "DM_where_smearing_reaches_value(1536, 600, 400)"
   ]
  },
  {
   "cell_type": "markdown",
   "id": "chinese-vampire",
   "metadata": {},
   "source": [
    "***"
   ]
  },
  {
   "cell_type": "code",
   "execution_count": 37,
   "id": "banner-calendar",
   "metadata": {},
   "outputs": [
    {
     "data": {
      "text/plain": [
       "Decimal('61731.61550181535269709543567')"
      ]
     },
     "execution_count": 37,
     "metadata": {},
     "output_type": "execute_result"
    }
   ],
   "source": [
    "sampling_time_ms = D(\"163.84E-3\")\n",
    "#sampling_time_ms = D(\"1\")\n",
    "DM_to_time_delay_ms(520, 400, f_ref_MHz=800) / sampling_time_ms"
   ]
  },
  {
   "cell_type": "code",
   "execution_count": 38,
   "id": "possible-solomon",
   "metadata": {},
   "outputs": [
    {
     "data": {
      "text/plain": [
       "Decimal('0.008423560533333333333333333333')"
      ]
     },
     "execution_count": 38,
     "metadata": {},
     "output_type": "execute_result"
    }
   ],
   "source": [
    "# which is pretty crap 62,000 DMs is going to take way more memory!\n",
    "# and it's doing it at a DM step of\n",
    "time_delay_ms_to_DM(sampling_time_ms, 400, f_ref_MHz=800)"
   ]
  },
  {
   "cell_type": "code",
   "execution_count": 39,
   "id": "wooden-bangkok",
   "metadata": {},
   "outputs": [],
   "source": [
    "# which is stupid\n",
    "# in channel dispersive smearing is way more than the sampling time\n",
    "DM_to_time_delay_ms(0.008, )"
   ]
  },
  {
   "cell_type": "code",
   "execution_count": 62,
   "id": "unsigned-webmaster",
   "metadata": {},
   "outputs": [
    {
     "data": {
      "text/plain": [
       "Decimal('315.88352000000000000')"
      ]
     },
     "execution_count": 62,
     "metadata": {},
     "output_type": "execute_result"
    }
   ],
   "source": [
    "nchan = 1024\n",
    "nchan = 16384\n",
    "DM_where_smearing_reaches_value(1, 400,400/nchan)"
   ]
  },
  {
   "cell_type": "code",
   "execution_count": 59,
   "id": "parallel-latex",
   "metadata": {},
   "outputs": [],
   "source": [
    "import numpy as np"
   ]
  },
  {
   "cell_type": "code",
   "execution_count": 61,
   "id": "advance-adaptation",
   "metadata": {},
   "outputs": [
    {
     "data": {
      "text/plain": [
       "array([     1,      2,      4,      8,     16,     32,     64,    128,\n",
       "          256,    512,   1024,   2048,   4096,   8192,  16384,  32768,\n",
       "        65536, 131072, 262144, 524288])"
      ]
     },
     "execution_count": 61,
     "metadata": {},
     "output_type": "execute_result"
    }
   ],
   "source": [
    "2**np.arange(20)"
   ]
  },
  {
   "cell_type": "code",
   "execution_count": null,
   "id": "premium-prayer",
   "metadata": {},
   "outputs": [],
   "source": []
  }
 ],
 "metadata": {
  "kernelspec": {
   "display_name": "Python 3",
   "language": "python",
   "name": "python3"
  },
  "language_info": {
   "codemirror_mode": {
    "name": "ipython",
    "version": 3
   },
   "file_extension": ".py",
   "mimetype": "text/x-python",
   "name": "python",
   "nbconvert_exporter": "python",
   "pygments_lexer": "ipython3",
   "version": "3.8.7"
  }
 },
 "nbformat": 4,
 "nbformat_minor": 5
}
